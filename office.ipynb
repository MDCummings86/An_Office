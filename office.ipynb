{
 "cells": [
  {
   "cell_type": "code",
   "execution_count": 99,
   "metadata": {},
   "outputs": [],
   "source": [
    "# Import dependencies\n",
    "from matplotlib import pyplot as plt\n",
    "from scipy.stats import linregress\n",
    "from scipy.stats import describe\n",
    "import numpy as np\n",
    "from sklearn import datasets\n",
    "import pandas as pd"
   ]
  },
  {
   "cell_type": "code",
   "execution_count": 106,
   "metadata": {},
   "outputs": [],
   "source": [
    "# List of character names from the American version of \"The Office\" and some others\n",
    "office_names = ['Jim', 'Pam', 'Dwight', 'Michael', 'Angela']"
   ]
  },
  {
   "cell_type": "code",
   "execution_count": 107,
   "metadata": {},
   "outputs": [],
   "source": [
    "# Generate additional unique fictional character names\n",
    "num_additional_names = 195\n",
    "remaining_names = list(set(office_names) ^ set([]))\n",
    "fictional_names = office_names + np.random.choice(remaining_names, size=num_additional_names, replace=True).tolist()"
   ]
  },
  {
   "cell_type": "code",
   "execution_count": 108,
   "metadata": {},
   "outputs": [
    {
     "data": {
      "text/html": [
       "<div>\n",
       "<style scoped>\n",
       "    .dataframe tbody tr th:only-of-type {\n",
       "        vertical-align: middle;\n",
       "    }\n",
       "\n",
       "    .dataframe tbody tr th {\n",
       "        vertical-align: top;\n",
       "    }\n",
       "\n",
       "    .dataframe thead th {\n",
       "        text-align: right;\n",
       "    }\n",
       "</style>\n",
       "<table border=\"1\" class=\"dataframe\">\n",
       "  <thead>\n",
       "    <tr style=\"text-align: right;\">\n",
       "      <th></th>\n",
       "      <th>First_Name</th>\n",
       "      <th>Last_Name</th>\n",
       "      <th>Department</th>\n",
       "      <th>Average_Daily_Sales</th>\n",
       "      <th>Sex</th>\n",
       "      <th>Salary</th>\n",
       "    </tr>\n",
       "  </thead>\n",
       "  <tbody>\n",
       "    <tr>\n",
       "      <th>0</th>\n",
       "      <td>Jim</td>\n",
       "      <td>Martin</td>\n",
       "      <td>Accounting</td>\n",
       "      <td>518</td>\n",
       "      <td>Male</td>\n",
       "      <td>54611</td>\n",
       "    </tr>\n",
       "    <tr>\n",
       "      <th>1</th>\n",
       "      <td>Pam</td>\n",
       "      <td>Brown</td>\n",
       "      <td>Warehouse</td>\n",
       "      <td>2859</td>\n",
       "      <td>Male</td>\n",
       "      <td>49888</td>\n",
       "    </tr>\n",
       "    <tr>\n",
       "      <th>2</th>\n",
       "      <td>Dwight</td>\n",
       "      <td>Black</td>\n",
       "      <td>Accounting</td>\n",
       "      <td>1818</td>\n",
       "      <td>Female</td>\n",
       "      <td>52028</td>\n",
       "    </tr>\n",
       "    <tr>\n",
       "      <th>3</th>\n",
       "      <td>Michael</td>\n",
       "      <td>Anderson</td>\n",
       "      <td>Accounting</td>\n",
       "      <td>2898</td>\n",
       "      <td>Female</td>\n",
       "      <td>60356</td>\n",
       "    </tr>\n",
       "    <tr>\n",
       "      <th>4</th>\n",
       "      <td>Angela</td>\n",
       "      <td>Wilson</td>\n",
       "      <td>Warehouse</td>\n",
       "      <td>822</td>\n",
       "      <td>Male</td>\n",
       "      <td>61848</td>\n",
       "    </tr>\n",
       "    <tr>\n",
       "      <th>...</th>\n",
       "      <td>...</td>\n",
       "      <td>...</td>\n",
       "      <td>...</td>\n",
       "      <td>...</td>\n",
       "      <td>...</td>\n",
       "      <td>...</td>\n",
       "    </tr>\n",
       "    <tr>\n",
       "      <th>195</th>\n",
       "      <td>Jim</td>\n",
       "      <td>Smith</td>\n",
       "      <td>Accounting</td>\n",
       "      <td>1757</td>\n",
       "      <td>Female</td>\n",
       "      <td>57890</td>\n",
       "    </tr>\n",
       "    <tr>\n",
       "      <th>196</th>\n",
       "      <td>Jim</td>\n",
       "      <td>Wilson</td>\n",
       "      <td>Marketing</td>\n",
       "      <td>587</td>\n",
       "      <td>Female</td>\n",
       "      <td>78318</td>\n",
       "    </tr>\n",
       "    <tr>\n",
       "      <th>197</th>\n",
       "      <td>Dwight</td>\n",
       "      <td>Black</td>\n",
       "      <td>Sales</td>\n",
       "      <td>2377</td>\n",
       "      <td>Female</td>\n",
       "      <td>68492</td>\n",
       "    </tr>\n",
       "    <tr>\n",
       "      <th>198</th>\n",
       "      <td>Michael</td>\n",
       "      <td>Smith</td>\n",
       "      <td>Warehouse</td>\n",
       "      <td>2869</td>\n",
       "      <td>Female</td>\n",
       "      <td>64613</td>\n",
       "    </tr>\n",
       "    <tr>\n",
       "      <th>199</th>\n",
       "      <td>Jim</td>\n",
       "      <td>Black</td>\n",
       "      <td>Human Resources</td>\n",
       "      <td>650</td>\n",
       "      <td>Male</td>\n",
       "      <td>60529</td>\n",
       "    </tr>\n",
       "  </tbody>\n",
       "</table>\n",
       "<p>200 rows × 6 columns</p>\n",
       "</div>"
      ],
      "text/plain": [
       "    First_Name Last_Name       Department  Average_Daily_Sales     Sex  Salary\n",
       "0          Jim    Martin       Accounting                  518    Male   54611\n",
       "1          Pam     Brown        Warehouse                 2859    Male   49888\n",
       "2       Dwight     Black       Accounting                 1818  Female   52028\n",
       "3      Michael  Anderson       Accounting                 2898  Female   60356\n",
       "4       Angela    Wilson        Warehouse                  822    Male   61848\n",
       "..         ...       ...              ...                  ...     ...     ...\n",
       "195        Jim     Smith       Accounting                 1757  Female   57890\n",
       "196        Jim    Wilson        Marketing                  587  Female   78318\n",
       "197     Dwight     Black            Sales                 2377  Female   68492\n",
       "198    Michael     Smith        Warehouse                 2869  Female   64613\n",
       "199        Jim     Black  Human Resources                  650    Male   60529\n",
       "\n",
       "[200 rows x 6 columns]"
      ]
     },
     "execution_count": 108,
     "metadata": {},
     "output_type": "execute_result"
    }
   ],
   "source": [
    "# Generate fictional DataFrame\n",
    "data = {\n",
    "    'First_Name': fictional_names,\n",
    "    'Last_Name': np.random.choice(['Smith', 'Johnson', 'Brown', 'Anderson', 'Wilson', 'Martin', 'Carter', 'Black'], size=200),\n",
    "    'Department': np.random.choice(['Sales', 'Marketing', 'Warehouse', 'Accounting', 'Human Resources'], size=200),\n",
    "    'Average_Daily_Sales': np.random.randint(500, 3000, size=200),\n",
    "    'Sex': np.random.choice(['Male', 'Female'], size=200),\n",
    "    'Salary': np.random.randint(40000, 100000, size=200)\n",
    "}\n",
    "\n",
    "df = pd.DataFrame(data)\n",
    "df"
   ]
  },
  {
   "cell_type": "code",
   "execution_count": 67,
   "metadata": {},
   "outputs": [
    {
     "data": {
      "text/plain": [
       "71525.405"
      ]
     },
     "execution_count": 67,
     "metadata": {},
     "output_type": "execute_result"
    }
   ],
   "source": [
    "# Find the average salary\n",
    "df[\"Salary\"].mean()"
   ]
  },
  {
   "cell_type": "code",
   "execution_count": 68,
   "metadata": {},
   "outputs": [
    {
     "name": "stdout",
     "output_type": "stream",
     "text": [
      "   First_Name Last_Name Department  Average_Daily_Sales     Sex  Salary\n",
      "52     Angela     Smith  Marketing                 2995  Female   89982\n"
     ]
    }
   ],
   "source": [
    "# Find the minimum Average Daily Sales\n",
    "print(df[df.Average_Daily_Sales == df.Average_Daily_Sales.max()])"
   ]
  },
  {
   "cell_type": "code",
   "execution_count": 69,
   "metadata": {},
   "outputs": [
    {
     "name": "stdout",
     "output_type": "stream",
     "text": [
      "   First_Name Last_Name Department  Average_Daily_Sales     Sex  Salary\n",
      "14    Michael     Brown    Finance                  502  Female   76507\n"
     ]
    }
   ],
   "source": [
    "# Find the maximum Average Daily Sales\n",
    "print(df[df.Average_Daily_Sales == df.Average_Daily_Sales.min()])"
   ]
  },
  {
   "cell_type": "code",
   "execution_count": 70,
   "metadata": {},
   "outputs": [
    {
     "data": {
      "text/plain": [
       "<matplotlib.axes._subplots.AxesSubplot at 0x7fe2f96a3fd0>"
      ]
     },
     "execution_count": 70,
     "metadata": {},
     "output_type": "execute_result"
    },
    {
     "data": {
      "image/png": "[encoded data removed]",
      "text/plain": [
       "<Figure size 432x288 with 1 Axes>"
      ]
     },
     "metadata": {
      "needs_background": "light"
     },
     "output_type": "display_data"
    }
   ],
   "source": [
    "# Draw a scatter plot and here size of dots determined by age of person\n",
    "# df.plot.scatter(x = 'Salary', y = 'Average_Daily_Sales', s = 'Salary', c = 'green')\n",
    "\n",
    "df.plot.scatter(x='Salary', y='Average_Daily_Sales', s=60, c='purple')"
   ]
  },
  {
   "cell_type": "code",
   "execution_count": 97,
   "metadata": {},
   "outputs": [
    {
     "name": "stdout",
     "output_type": "stream",
     "text": [
      "The r-squared is: 0.006799168270994872\n",
      "The correlation coefficient confirms a very weak negative correlation\n",
      "There seems to be no relationship between how much each employee makes for the company and how much each employee makes for themselves\n"
     ]
    },
    {
     "data": {
      "image/png": "[encoded data removed]",
      "text/plain": [
       "<Figure size 432x288 with 1 Axes>"
      ]
     },
     "metadata": {
      "needs_background": "light"
     },
     "output_type": "display_data"
    }
   ],
   "source": [
    "# Add the linear regression equation and line to plot\n",
    "# The linear regression shows \n",
    "x_values = df['Salary']\n",
    "y_values = df['Average_Daily_Sales']\n",
    "(slope, intercept, rvalue, pvalue, stderr) = linregress(x_values, y_values)\n",
    "regress_values = x_values * slope + intercept\n",
    "line_eq = \"y = \" + str(round(slope,2)) + \"x + \" + str(round(intercept,2))\n",
    "plt.scatter(x_values,y_values)\n",
    "plt.plot(x_values,regress_values,\"r-\")\n",
    "plt.annotate(line_eq,(38000,450),fontsize=15,color=\"red\")\n",
    "plt.title('Correlation between Average Daily Sales and Yearly Salary for Employees')\n",
    "plt.xlabel('Salary')\n",
    "plt.ylabel('Average Daily Sales')\n",
    "print(f\"The r-squared is: {rvalue**2}\")\n",
    "print(f\"The correlation coefficient confirms a very weak negative correlation\"\n",
    "\"\\nThere seems to be no relationship between how much each employee makes for the company and how much each employee makes for themselves\")\n",
    "# plt.tight_layout()\n",
    "plt.show()"
   ]
  },
  {
   "cell_type": "code",
   "execution_count": 101,
   "metadata": {},
   "outputs": [
    {
     "data": {
      "text/html": [
       "<div>\n",
       "<style scoped>\n",
       "    .dataframe tbody tr th:only-of-type {\n",
       "        vertical-align: middle;\n",
       "    }\n",
       "\n",
       "    .dataframe tbody tr th {\n",
       "        vertical-align: top;\n",
       "    }\n",
       "\n",
       "    .dataframe thead th {\n",
       "        text-align: right;\n",
       "    }\n",
       "</style>\n",
       "<table border=\"1\" class=\"dataframe\">\n",
       "  <thead>\n",
       "    <tr style=\"text-align: right;\">\n",
       "      <th></th>\n",
       "      <th>Average_Daily_Sales</th>\n",
       "      <th>Salary</th>\n",
       "    </tr>\n",
       "  </thead>\n",
       "  <tbody>\n",
       "    <tr>\n",
       "      <th>count</th>\n",
       "      <td>200.000000</td>\n",
       "      <td>200.000000</td>\n",
       "    </tr>\n",
       "    <tr>\n",
       "      <th>mean</th>\n",
       "      <td>1793.365000</td>\n",
       "      <td>71525.405000</td>\n",
       "    </tr>\n",
       "    <tr>\n",
       "      <th>std</th>\n",
       "      <td>751.290529</td>\n",
       "      <td>16629.023782</td>\n",
       "    </tr>\n",
       "    <tr>\n",
       "      <th>min</th>\n",
       "      <td>502.000000</td>\n",
       "      <td>40023.000000</td>\n",
       "    </tr>\n",
       "    <tr>\n",
       "      <th>25%</th>\n",
       "      <td>1160.750000</td>\n",
       "      <td>58842.250000</td>\n",
       "    </tr>\n",
       "    <tr>\n",
       "      <th>50%</th>\n",
       "      <td>1846.000000</td>\n",
       "      <td>72624.000000</td>\n",
       "    </tr>\n",
       "    <tr>\n",
       "      <th>75%</th>\n",
       "      <td>2446.000000</td>\n",
       "      <td>84605.500000</td>\n",
       "    </tr>\n",
       "    <tr>\n",
       "      <th>max</th>\n",
       "      <td>2995.000000</td>\n",
       "      <td>99718.000000</td>\n",
       "    </tr>\n",
       "  </tbody>\n",
       "</table>\n",
       "</div>"
      ],
      "text/plain": [
       "       Average_Daily_Sales        Salary\n",
       "count           200.000000    200.000000\n",
       "mean           1793.365000  71525.405000\n",
       "std             751.290529  16629.023782\n",
       "min             502.000000  40023.000000\n",
       "25%            1160.750000  58842.250000\n",
       "50%            1846.000000  72624.000000\n",
       "75%            2446.000000  84605.500000\n",
       "max            2995.000000  99718.000000"
      ]
     },
     "execution_count": 101,
     "metadata": {},
     "output_type": "execute_result"
    }
   ],
   "source": []
  }
 ],
 "metadata": {
  "kernelspec": {
   "display_name": "PythonData",
   "language": "python",
   "name": "python3"
  },
  "language_info": {
   "codemirror_mode": {
    "name": "ipython",
    "version": 3
   },
   "file_extension": ".py",
   "mimetype": "text/x-python",
   "name": "python",
   "nbconvert_exporter": "python",
   "pygments_lexer": "ipython3",
   "version": "3.7.7"
  },
  "orig_nbformat": 4
 },
 "nbformat": 4,
 "nbformat_minor": 2
}
