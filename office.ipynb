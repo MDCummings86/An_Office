{
 "cells": [
  {
   "cell_type": "code",
   "execution_count": 1,
   "metadata": {},
   "outputs": [],
   "source": [
    "# Import dependencies\n",
    "from matplotlib import pyplot as plt\n",
    "from scipy.stats import linregress\n",
    "from scipy.stats import describe\n",
    "import numpy as np\n",
    "from sklearn import datasets\n",
    "import pandas as pd"
   ]
  },
  {
   "cell_type": "code",
   "execution_count": 11,
   "metadata": {},
   "outputs": [],
   "source": [
    "# List of character names from the American version of \"The Office\", \"Mad Men\" and 'Parks and Recreation'\n",
    "office_names = ['Jim', 'Pam', 'Dwight', 'George', 'Angela', 'Leslie', 'Tom', 'Creed', 'Oscar', 'Don', 'Pete', 'Peggy', 'Joan', 'Roger', 'Ron']"
   ]
  },
  {
   "cell_type": "code",
   "execution_count": 12,
   "metadata": {},
   "outputs": [],
   "source": [
    "# Generate additional unique fictional character names\n",
    "num_additional_names = 185\n",
    "remaining_names = list(set(office_names) ^ set([]))\n",
    "fictional_names = office_names + np.random.choice(remaining_names, size=num_additional_names, replace=True).tolist()"
   ]
  },
  {
   "cell_type": "code",
   "execution_count": 37,
   "metadata": {},
   "outputs": [
    {
     "data": {
      "text/html": [
       "<div>\n",
       "<style scoped>\n",
       "    .dataframe tbody tr th:only-of-type {\n",
       "        vertical-align: middle;\n",
       "    }\n",
       "\n",
       "    .dataframe tbody tr th {\n",
       "        vertical-align: top;\n",
       "    }\n",
       "\n",
       "    .dataframe thead th {\n",
       "        text-align: right;\n",
       "    }\n",
       "</style>\n",
       "<table border=\"1\" class=\"dataframe\">\n",
       "  <thead>\n",
       "    <tr style=\"text-align: right;\">\n",
       "      <th></th>\n",
       "      <th>First_Name</th>\n",
       "      <th>Last_Name</th>\n",
       "      <th>Department</th>\n",
       "      <th>Average_Daily_Sales</th>\n",
       "      <th>Sex</th>\n",
       "      <th>Salary</th>\n",
       "    </tr>\n",
       "  </thead>\n",
       "  <tbody>\n",
       "    <tr>\n",
       "      <th>0</th>\n",
       "      <td>Jim</td>\n",
       "      <td>Smith</td>\n",
       "      <td>Marketing</td>\n",
       "      <td>3034</td>\n",
       "      <td>Female</td>\n",
       "      <td>41472</td>\n",
       "    </tr>\n",
       "    <tr>\n",
       "      <th>1</th>\n",
       "      <td>Pam</td>\n",
       "      <td>Smith</td>\n",
       "      <td>Accounting</td>\n",
       "      <td>3628</td>\n",
       "      <td>Male</td>\n",
       "      <td>91714</td>\n",
       "    </tr>\n",
       "    <tr>\n",
       "      <th>2</th>\n",
       "      <td>Dwight</td>\n",
       "      <td>Carter</td>\n",
       "      <td>Sales</td>\n",
       "      <td>1214</td>\n",
       "      <td>Female</td>\n",
       "      <td>49081</td>\n",
       "    </tr>\n",
       "    <tr>\n",
       "      <th>3</th>\n",
       "      <td>George</td>\n",
       "      <td>Carter</td>\n",
       "      <td>Marketing</td>\n",
       "      <td>2999</td>\n",
       "      <td>Male</td>\n",
       "      <td>84269</td>\n",
       "    </tr>\n",
       "    <tr>\n",
       "      <th>4</th>\n",
       "      <td>Angela</td>\n",
       "      <td>Black</td>\n",
       "      <td>Warehouse</td>\n",
       "      <td>2329</td>\n",
       "      <td>Female</td>\n",
       "      <td>94887</td>\n",
       "    </tr>\n",
       "    <tr>\n",
       "      <th>...</th>\n",
       "      <td>...</td>\n",
       "      <td>...</td>\n",
       "      <td>...</td>\n",
       "      <td>...</td>\n",
       "      <td>...</td>\n",
       "      <td>...</td>\n",
       "    </tr>\n",
       "    <tr>\n",
       "      <th>195</th>\n",
       "      <td>Jim</td>\n",
       "      <td>Johnson</td>\n",
       "      <td>Accounting</td>\n",
       "      <td>1719</td>\n",
       "      <td>Male</td>\n",
       "      <td>84376</td>\n",
       "    </tr>\n",
       "    <tr>\n",
       "      <th>196</th>\n",
       "      <td>George</td>\n",
       "      <td>Smith</td>\n",
       "      <td>Warehouse</td>\n",
       "      <td>3204</td>\n",
       "      <td>Male</td>\n",
       "      <td>95242</td>\n",
       "    </tr>\n",
       "    <tr>\n",
       "      <th>197</th>\n",
       "      <td>Roger</td>\n",
       "      <td>Brown</td>\n",
       "      <td>Warehouse</td>\n",
       "      <td>2076</td>\n",
       "      <td>Male</td>\n",
       "      <td>55780</td>\n",
       "    </tr>\n",
       "    <tr>\n",
       "      <th>198</th>\n",
       "      <td>Pam</td>\n",
       "      <td>Wilson</td>\n",
       "      <td>Warehouse</td>\n",
       "      <td>2126</td>\n",
       "      <td>Female</td>\n",
       "      <td>54217</td>\n",
       "    </tr>\n",
       "    <tr>\n",
       "      <th>199</th>\n",
       "      <td>Peggy</td>\n",
       "      <td>Smith</td>\n",
       "      <td>Warehouse</td>\n",
       "      <td>527</td>\n",
       "      <td>Female</td>\n",
       "      <td>62762</td>\n",
       "    </tr>\n",
       "  </tbody>\n",
       "</table>\n",
       "<p>200 rows × 6 columns</p>\n",
       "</div>"
      ],
      "text/plain": [
       "    First_Name Last_Name  Department  Average_Daily_Sales     Sex  Salary\n",
       "0          Jim     Smith   Marketing                 3034  Female   41472\n",
       "1          Pam     Smith  Accounting                 3628    Male   91714\n",
       "2       Dwight    Carter       Sales                 1214  Female   49081\n",
       "3       George    Carter   Marketing                 2999    Male   84269\n",
       "4       Angela     Black   Warehouse                 2329  Female   94887\n",
       "..         ...       ...         ...                  ...     ...     ...\n",
       "195        Jim   Johnson  Accounting                 1719    Male   84376\n",
       "196     George     Smith   Warehouse                 3204    Male   95242\n",
       "197      Roger     Brown   Warehouse                 2076    Male   55780\n",
       "198        Pam    Wilson   Warehouse                 2126  Female   54217\n",
       "199      Peggy     Smith   Warehouse                  527  Female   62762\n",
       "\n",
       "[200 rows x 6 columns]"
      ]
     },
     "execution_count": 37,
     "metadata": {},
     "output_type": "execute_result"
    }
   ],
   "source": [
    "# Generate fictional DataFrame\n",
    "data = {\n",
    "    'First_Name': fictional_names,\n",
    "    'Last_Name': np.random.choice(['Smith', 'Johnson', 'Brown', 'Anderson', 'Wilson', 'Martin', 'Carter', 'Black'], size=200),\n",
    "    'Department': np.random.choice(['Sales', 'Marketing', 'Warehouse', 'Accounting', 'Human Resources'], size=200),\n",
    "    'Average_Daily_Sales': np.random.randint(500, 4000, size=200),\n",
    "    'Sex': np.random.choice(['Male', 'Female'], size=200),\n",
    "    'Salary': np.random.randint(40000, 100000, size=200)\n",
    "}\n",
    "\n",
    "df = pd.DataFrame(data)\n",
    "df"
   ]
  },
  {
   "cell_type": "code",
   "execution_count": 38,
   "metadata": {},
   "outputs": [
    {
     "data": {
      "text/html": [
       "<div>\n",
       "<style scoped>\n",
       "    .dataframe tbody tr th:only-of-type {\n",
       "        vertical-align: middle;\n",
       "    }\n",
       "\n",
       "    .dataframe tbody tr th {\n",
       "        vertical-align: top;\n",
       "    }\n",
       "\n",
       "    .dataframe thead th {\n",
       "        text-align: right;\n",
       "    }\n",
       "</style>\n",
       "<table border=\"1\" class=\"dataframe\">\n",
       "  <thead>\n",
       "    <tr style=\"text-align: right;\">\n",
       "      <th></th>\n",
       "      <th>Average_Daily_Sales</th>\n",
       "      <th>Salary</th>\n",
       "    </tr>\n",
       "  </thead>\n",
       "  <tbody>\n",
       "    <tr>\n",
       "      <th>count</th>\n",
       "      <td>200.000000</td>\n",
       "      <td>200.00000</td>\n",
       "    </tr>\n",
       "    <tr>\n",
       "      <th>mean</th>\n",
       "      <td>2239.350000</td>\n",
       "      <td>69819.22000</td>\n",
       "    </tr>\n",
       "    <tr>\n",
       "      <th>std</th>\n",
       "      <td>995.578056</td>\n",
       "      <td>17531.60966</td>\n",
       "    </tr>\n",
       "    <tr>\n",
       "      <th>min</th>\n",
       "      <td>527.000000</td>\n",
       "      <td>40383.00000</td>\n",
       "    </tr>\n",
       "    <tr>\n",
       "      <th>25%</th>\n",
       "      <td>1374.000000</td>\n",
       "      <td>54270.25000</td>\n",
       "    </tr>\n",
       "    <tr>\n",
       "      <th>50%</th>\n",
       "      <td>2204.000000</td>\n",
       "      <td>69946.00000</td>\n",
       "    </tr>\n",
       "    <tr>\n",
       "      <th>75%</th>\n",
       "      <td>3034.000000</td>\n",
       "      <td>86282.50000</td>\n",
       "    </tr>\n",
       "    <tr>\n",
       "      <th>max</th>\n",
       "      <td>3991.000000</td>\n",
       "      <td>99262.00000</td>\n",
       "    </tr>\n",
       "  </tbody>\n",
       "</table>\n",
       "</div>"
      ],
      "text/plain": [
       "       Average_Daily_Sales       Salary\n",
       "count           200.000000    200.00000\n",
       "mean           2239.350000  69819.22000\n",
       "std             995.578056  17531.60966\n",
       "min             527.000000  40383.00000\n",
       "25%            1374.000000  54270.25000\n",
       "50%            2204.000000  69946.00000\n",
       "75%            3034.000000  86282.50000\n",
       "max            3991.000000  99262.00000"
      ]
     },
     "execution_count": 38,
     "metadata": {},
     "output_type": "execute_result"
    }
   ],
   "source": [
    "# Find the summary statistics\n",
    "df.describe()"
   ]
  },
  {
   "cell_type": "code",
   "execution_count": 39,
   "metadata": {},
   "outputs": [
    {
     "data": {
      "text/plain": [
       "69819.22"
      ]
     },
     "execution_count": 39,
     "metadata": {},
     "output_type": "execute_result"
    }
   ],
   "source": [
    "# Find the average salary\n",
    "df[\"Salary\"].mean()"
   ]
  },
  {
   "cell_type": "code",
   "execution_count": 40,
   "metadata": {},
   "outputs": [
    {
     "name": "stdout",
     "output_type": "stream",
     "text": [
      "   First_Name Last_Name Department  Average_Daily_Sales     Sex  Salary\n",
      "91     Angela    Wilson      Sales                 3991  Female   82265\n"
     ]
    }
   ],
   "source": [
    "# Find the minimum Average Daily Sales\n",
    "print(df[df.Average_Daily_Sales == df.Average_Daily_Sales.max()])"
   ]
  },
  {
   "cell_type": "code",
   "execution_count": 41,
   "metadata": {},
   "outputs": [
    {
     "name": "stdout",
     "output_type": "stream",
     "text": [
      "    First_Name Last_Name Department  Average_Daily_Sales     Sex  Salary\n",
      "199      Peggy     Smith  Warehouse                  527  Female   62762\n"
     ]
    }
   ],
   "source": [
    "# Find the maximum Average Daily Sales\n",
    "print(df[df.Average_Daily_Sales == df.Average_Daily_Sales.min()])"
   ]
  },
  {
   "cell_type": "code",
   "execution_count": 19,
   "metadata": {},
   "outputs": [
    {
     "data": {
      "text/plain": [
       "<matplotlib.axes._subplots.AxesSubplot at 0x7fc8794a3750>"
      ]
     },
     "execution_count": 19,
     "metadata": {},
     "output_type": "execute_result"
    },
    {
     "data": {
      "image/png": "[encoded data removed]",
      "text/plain": [
       "<Figure size 432x288 with 1 Axes>"
      ]
     },
     "metadata": {
      "needs_background": "light"
     },
     "output_type": "display_data"
    }
   ],
   "source": [
    "# Draw a scatter plot and here size of dots determined by age of person\n",
    "# df.plot.scatter(x = 'Salary', y = 'Average_Daily_Sales', s = 'Salary', c = 'green')\n",
    "\n",
    "df.plot.scatter(x='Salary', y='Average_Daily_Sales', s=60, c='purple')"
   ]
  },
  {
   "cell_type": "code",
   "execution_count": 20,
   "metadata": {},
   "outputs": [
    {
     "name": "stdout",
     "output_type": "stream",
     "text": [
      "The r-squared is: 0.0029430497172654594\n",
      "The correlation coefficient confirms a very weak negative correlation\n",
      "There seems to be no relationship between how much each employee makes for the company and how much each employee makes for themselves\n"
     ]
    },
    {
     "data": {
      "image/png": "[encoded data removed]",
      "text/plain": [
       "<Figure size 432x288 with 1 Axes>"
      ]
     },
     "metadata": {
      "needs_background": "light"
     },
     "output_type": "display_data"
    }
   ],
   "source": [
    "# Add the linear regression equation and line to plot\n",
    "x_values = df['Salary']\n",
    "y_values = df['Average_Daily_Sales']\n",
    "(slope, intercept, rvalue, pvalue, stderr) = linregress(x_values, y_values)\n",
    "regress_values = x_values * slope + intercept\n",
    "line_eq = \"y = \" + str(round(slope,2)) + \"x + \" + str(round(intercept,2))\n",
    "plt.scatter(x_values,y_values)\n",
    "plt.plot(x_values,regress_values,\"r-\")\n",
    "plt.annotate(line_eq,(38000,450),fontsize=15,color=\"red\")\n",
    "plt.title('Correlation between Average Daily Sales and Yearly Salary for Employees')\n",
    "plt.xlabel('Salary')\n",
    "plt.ylabel('Average Daily Sales')\n",
    "print(f\"The r-squared is: {rvalue**2}\")\n",
    "print(f\"The correlation coefficient confirms a very weak negative correlation\"\n",
    "\"\\nThere seems to be no relationship between how much each employee makes for the company and how much each employee makes for themselves\")\n",
    "# plt.tight_layout()\n",
    "plt.show()"
   ]
  },
  {
   "cell_type": "code",
   "execution_count": 43,
   "metadata": {},
   "outputs": [
    {
     "data": {
      "text/html": [
       "<div>\n",
       "<style scoped>\n",
       "    .dataframe tbody tr th:only-of-type {\n",
       "        vertical-align: middle;\n",
       "    }\n",
       "\n",
       "    .dataframe tbody tr th {\n",
       "        vertical-align: top;\n",
       "    }\n",
       "\n",
       "    .dataframe thead th {\n",
       "        text-align: right;\n",
       "    }\n",
       "</style>\n",
       "<table border=\"1\" class=\"dataframe\">\n",
       "  <thead>\n",
       "    <tr style=\"text-align: right;\">\n",
       "      <th></th>\n",
       "      <th>First_Name</th>\n",
       "      <th>Last_Name</th>\n",
       "      <th>Department</th>\n",
       "      <th>Average_Daily_Sales</th>\n",
       "      <th>Sex</th>\n",
       "      <th>Salary</th>\n",
       "    </tr>\n",
       "  </thead>\n",
       "  <tbody>\n",
       "    <tr>\n",
       "      <th>0</th>\n",
       "      <td>Jim</td>\n",
       "      <td>Smith</td>\n",
       "      <td>Marketing</td>\n",
       "      <td>3034</td>\n",
       "      <td>Female</td>\n",
       "      <td>41472</td>\n",
       "    </tr>\n",
       "    <tr>\n",
       "      <th>1</th>\n",
       "      <td>Pam</td>\n",
       "      <td>Smith</td>\n",
       "      <td>Accounting</td>\n",
       "      <td>3628</td>\n",
       "      <td>Male</td>\n",
       "      <td>91714</td>\n",
       "    </tr>\n",
       "    <tr>\n",
       "      <th>2</th>\n",
       "      <td>Dwight</td>\n",
       "      <td>Carter</td>\n",
       "      <td>Sales</td>\n",
       "      <td>1214</td>\n",
       "      <td>Female</td>\n",
       "      <td>49081</td>\n",
       "    </tr>\n",
       "    <tr>\n",
       "      <th>3</th>\n",
       "      <td>George</td>\n",
       "      <td>Carter</td>\n",
       "      <td>Marketing</td>\n",
       "      <td>2999</td>\n",
       "      <td>Male</td>\n",
       "      <td>84269</td>\n",
       "    </tr>\n",
       "    <tr>\n",
       "      <th>4</th>\n",
       "      <td>Angela</td>\n",
       "      <td>Black</td>\n",
       "      <td>Warehouse</td>\n",
       "      <td>2329</td>\n",
       "      <td>Female</td>\n",
       "      <td>94887</td>\n",
       "    </tr>\n",
       "    <tr>\n",
       "      <th>...</th>\n",
       "      <td>...</td>\n",
       "      <td>...</td>\n",
       "      <td>...</td>\n",
       "      <td>...</td>\n",
       "      <td>...</td>\n",
       "      <td>...</td>\n",
       "    </tr>\n",
       "    <tr>\n",
       "      <th>0</th>\n",
       "      <td>Michael</td>\n",
       "      <td>Scott</td>\n",
       "      <td>Sales</td>\n",
       "      <td>4041</td>\n",
       "      <td>M</td>\n",
       "      <td>120000</td>\n",
       "    </tr>\n",
       "    <tr>\n",
       "      <th>1</th>\n",
       "      <td>Paul</td>\n",
       "      <td>Kinsey</td>\n",
       "      <td>Marketing</td>\n",
       "      <td>6003</td>\n",
       "      <td>M</td>\n",
       "      <td>190000</td>\n",
       "    </tr>\n",
       "    <tr>\n",
       "      <th>2</th>\n",
       "      <td>Ken</td>\n",
       "      <td>Cosgrove</td>\n",
       "      <td>Marketing</td>\n",
       "      <td>5989</td>\n",
       "      <td>M</td>\n",
       "      <td>194000</td>\n",
       "    </tr>\n",
       "    <tr>\n",
       "      <th>3</th>\n",
       "      <td>Bert</td>\n",
       "      <td>Cooper</td>\n",
       "      <td>Marketing</td>\n",
       "      <td>7382</td>\n",
       "      <td>M</td>\n",
       "      <td>220000</td>\n",
       "    </tr>\n",
       "    <tr>\n",
       "      <th>4</th>\n",
       "      <td>Lane</td>\n",
       "      <td>Price</td>\n",
       "      <td>Accounting</td>\n",
       "      <td>1033</td>\n",
       "      <td>M</td>\n",
       "      <td>180000</td>\n",
       "    </tr>\n",
       "  </tbody>\n",
       "</table>\n",
       "<p>205 rows × 6 columns</p>\n",
       "</div>"
      ],
      "text/plain": [
       "   First_Name Last_Name  Department  Average_Daily_Sales     Sex  Salary\n",
       "0         Jim     Smith   Marketing                 3034  Female   41472\n",
       "1         Pam     Smith  Accounting                 3628    Male   91714\n",
       "2      Dwight    Carter       Sales                 1214  Female   49081\n",
       "3      George    Carter   Marketing                 2999    Male   84269\n",
       "4      Angela     Black   Warehouse                 2329  Female   94887\n",
       "..        ...       ...         ...                  ...     ...     ...\n",
       "0     Michael     Scott       Sales                 4041       M  120000\n",
       "1        Paul    Kinsey   Marketing                 6003       M  190000\n",
       "2         Ken  Cosgrove   Marketing                 5989       M  194000\n",
       "3        Bert    Cooper   Marketing                 7382       M  220000\n",
       "4        Lane     Price  Accounting                 1033       M  180000\n",
       "\n",
       "[205 rows x 6 columns]"
      ]
     },
     "execution_count": 43,
     "metadata": {},
     "output_type": "execute_result"
    }
   ],
   "source": [
    "# Let's try to invert the correlation by adding some rows targeted at higher sales and higher salary\n",
    "# Define the new row to be added\n",
    "data = [{'First_Name': 'Michael', 'Last_Name': 'Scott', 'Department': 'Sales', 'Average_Daily_Sales': 4041, 'Sex': 'M', 'Salary': 120000},\n",
    "                   {'First_Name': 'Paul', 'Last_Name': 'Kinsey', 'Department': 'Marketing', 'Average_Daily_Sales': 6003, 'Sex': 'M', 'Salary': 190000},\n",
    "                   {'First_Name': 'Ken', 'Last_Name': 'Cosgrove', 'Department': 'Marketing', 'Average_Daily_Sales': 5989, 'Sex': 'M', 'Salary': 194000},\n",
    "                   {'First_Name': 'Bert', 'Last_Name': 'Cooper', 'Department': 'Marketing', 'Average_Daily_Sales': 7382, 'Sex': 'M', 'Salary': 220000},\n",
    "                   {'First_Name': 'Lane', 'Last_Name': 'Price', 'Department': 'Accounting', 'Average_Daily_Sales': 1033, 'Sex': 'M', 'Salary': 180000}]\n",
    "                       \n",
    "df1 = pd.DataFrame(data)\n",
    "# append df1 using concat since df.append is being rolled out with the new version\n",
    "mm_df = pd.concat([df, df1])\n",
    "mm_df"
   ]
  },
  {
   "cell_type": "code",
   "execution_count": 45,
   "metadata": {},
   "outputs": [
    {
     "data": {
      "text/plain": [
       "72526.06829268293"
      ]
     },
     "execution_count": 45,
     "metadata": {},
     "output_type": "execute_result"
    }
   ],
   "source": [
    "# Recalculating the average salary with the outliers included\n",
    "# Find the average salary\n",
    "mm_df[\"Salary\"].mean()"
   ]
  },
  {
   "cell_type": "code",
   "execution_count": 44,
   "metadata": {},
   "outputs": [
    {
     "name": "stdout",
     "output_type": "stream",
     "text": [
      "The r-squared is: 0.10322493560935413\n",
      "The correlation coefficient confirms a very weak negative correlation\n",
      "There seems to be no relationship between how much each employee makes for the company and how much each employee makes for themselves\n"
     ]
    },
    {
     "data": {
      "image/png": "[encoded data removed]",
      "text/plain": [
       "<Figure size 432x288 with 1 Axes>"
      ]
     },
     "metadata": {
      "needs_background": "light"
     },
     "output_type": "display_data"
    }
   ],
   "source": [
    "# Let's try another linear regression with the new outliers\n",
    "# Add the linear regression equation and line to plot\n",
    "# The linear regression shows \n",
    "x_values = mm_df['Salary']\n",
    "y_values = mm_df['Average_Daily_Sales']\n",
    "(slope, intercept, rvalue, pvalue, stderr) = linregress(x_values, y_values)\n",
    "regress_values = x_values * slope + intercept\n",
    "line_eq = \"y = \" + str(round(slope,2)) + \"x + \" + str(round(intercept,2))\n",
    "plt.scatter(x_values,y_values)\n",
    "plt.plot(x_values,regress_values,\"r-\")\n",
    "plt.annotate(line_eq,(38000,450),fontsize=15,color=\"red\")\n",
    "plt.title('Correlation between Average Daily Sales and Yearly Salary for Employees')\n",
    "plt.xlabel('Salary')\n",
    "plt.ylabel('Average Daily Sales')\n",
    "print(f\"The r-squared is: {rvalue**2}\")\n",
    "print(f\"The correlation coefficient confirms a very weak negative correlation\"\n",
    "\"\\nThere seems to be no relationship between how much each employee makes for the company and how much each employee makes for themselves\")\n",
    "# plt.tight_layout()\n",
    "plt.show()"
   ]
  }
 ],
 "metadata": {
  "kernelspec": {
   "display_name": "PythonData",
   "language": "python",
   "name": "python3"
  },
  "language_info": {
   "codemirror_mode": {
    "name": "ipython",
    "version": 3
   },
   "file_extension": ".py",
   "mimetype": "text/x-python",
   "name": "python",
   "nbconvert_exporter": "python",
   "pygments_lexer": "ipython3",
   "version": "3.7.7"
  },
  "orig_nbformat": 4
 },
 "nbformat": 4,
 "nbformat_minor": 2
}
